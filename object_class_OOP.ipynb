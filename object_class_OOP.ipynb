{
 "cells": [
  {
   "cell_type": "markdown",
   "id": "531c875c",
   "metadata": {},
   "source": [
    "objects are assigned attributes and methods"
   ]
  },
  {
   "cell_type": "code",
   "execution_count": 25,
   "id": "7d888ac3",
   "metadata": {},
   "outputs": [],
   "source": [
    "class Dog():\n",
    "    #CLASS OBJECT ATTRIBUTES ARE THE SAME FOR ALL INSTANCES\n",
    "    furry=True\n",
    "    cute=True \n",
    "    #requires space between def and __init__\n",
    "    #__init__ uses TWO underscores _ _ init _ _\n",
    "    #attributes can have default values\n",
    "    def __init__(self, name, breed, weight, agemo):\n",
    "        \n",
    "        #attributes use self keyword to refer to the instance of the class\n",
    "        \n",
    "        #expect strings\n",
    "        self.name = name\n",
    "        self.breed = breed\n",
    "        #expect numeric\n",
    "        self.weight = weight\n",
    "        self.agemo = agemo\n",
    "        \n",
    "        #can make a new attribute from other attributes (not in the def __init__)\n",
    "        self.humanyears= self.agemo*(7/12)\n",
    "        \n",
    "    #METHODS are functions embedded in the object\n",
    "    def intro(self, command):\n",
    "        #attributes of object instance use self.attribute\n",
    "        #method can also use independent parameter (user input)\n",
    "        print(f\"Woof! I'm {self.name}, I can {command}\")"
   ]
  },
  {
   "cell_type": "code",
   "execution_count": 26,
   "id": "eb6ba977",
   "metadata": {},
   "outputs": [],
   "source": [
    "my_dog=Dog(name=\"Pita\", breed=\"rescue\", weight=14.6, agemo=8.5)"
   ]
  },
  {
   "cell_type": "code",
   "execution_count": 22,
   "id": "cc8ed42f",
   "metadata": {},
   "outputs": [
    {
     "name": "stdout",
     "output_type": "stream",
     "text": [
      "Woof! I'm Pita, I can lie down\n"
     ]
    }
   ],
   "source": [
    "my_dog.intro(\"lie down\")"
   ]
  },
  {
   "cell_type": "code",
   "execution_count": 27,
   "id": "78f957ca",
   "metadata": {},
   "outputs": [
    {
     "data": {
      "text/plain": [
       "4.958333333333334"
      ]
     },
     "execution_count": 27,
     "metadata": {},
     "output_type": "execute_result"
    }
   ],
   "source": [
    "my_dog.humanyears\n"
   ]
  },
  {
   "cell_type": "markdown",
   "id": "1239112a",
   "metadata": {},
   "source": [
    "a class can \"inherit\" properties of another class object\n",
    "\n",
    "method names can be reused to different object classes: polymorphism"
   ]
  },
  {
   "cell_type": "code",
   "execution_count": 40,
   "id": "b7168a85",
   "metadata": {},
   "outputs": [],
   "source": [
    "class Circle():\n",
    "    pi=3.14\n",
    "    \n",
    "    def __init__(self, radius=1):\n",
    "        self.radius=radius\n",
    "    def circumference(self):\n",
    "        return(self.radius*2*Circle.pi)\n",
    "    def area(self):\n",
    "        return(self.radius**2)*Circle.pi"
   ]
  },
  {
   "cell_type": "code",
   "execution_count": 41,
   "id": "467b63a1",
   "metadata": {},
   "outputs": [],
   "source": [
    "my_circle=Circle()"
   ]
  },
  {
   "cell_type": "code",
   "execution_count": 44,
   "id": "34734d93",
   "metadata": {},
   "outputs": [
    {
     "data": {
      "text/plain": [
       "3.14"
      ]
     },
     "execution_count": 44,
     "metadata": {},
     "output_type": "execute_result"
    }
   ],
   "source": [
    "my_circle.circumference()\n",
    "my_circle.area()"
   ]
  },
  {
   "cell_type": "code",
   "execution_count": 46,
   "id": "73feb01c",
   "metadata": {},
   "outputs": [],
   "source": [
    "class Rectangle():\n",
    "    \n",
    "    def __init__(self, side1=1, side2=2):\n",
    "        self.side1=side1\n",
    "        self.side2=side2\n",
    "        \n",
    "    def area(self):\n",
    "        return self.side1*self.side2"
   ]
  },
  {
   "cell_type": "code",
   "execution_count": 47,
   "id": "2395ea62",
   "metadata": {},
   "outputs": [],
   "source": [
    "my_rectangle=Rectangle()"
   ]
  },
  {
   "cell_type": "code",
   "execution_count": 49,
   "id": "bf437e7e",
   "metadata": {},
   "outputs": [
    {
     "data": {
      "text/plain": [
       "2"
      ]
     },
     "execution_count": 49,
     "metadata": {},
     "output_type": "execute_result"
    }
   ],
   "source": [
    "my_rectangle.area()"
   ]
  },
  {
   "cell_type": "code",
   "execution_count": null,
   "id": "dab39687",
   "metadata": {},
   "outputs": [],
   "source": []
  }
 ],
 "metadata": {
  "kernelspec": {
   "display_name": "Python 3 (ipykernel)",
   "language": "python",
   "name": "python3"
  },
  "language_info": {
   "codemirror_mode": {
    "name": "ipython",
    "version": 3
   },
   "file_extension": ".py",
   "mimetype": "text/x-python",
   "name": "python",
   "nbconvert_exporter": "python",
   "pygments_lexer": "ipython3",
   "version": "3.10.9"
  }
 },
 "nbformat": 4,
 "nbformat_minor": 5
}
