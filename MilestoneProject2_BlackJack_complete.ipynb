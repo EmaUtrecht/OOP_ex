{
 "cells": [
  {
   "cell_type": "markdown",
   "metadata": {},
   "source": [
    "___\n",
    "\n",
    "<a href='https://www.udemy.com/user/joseportilla/'><img src='../Pierian_Data_Logo.png'/></a>\n",
    "___\n",
    "<center><em>Content Copyright by Pierian Data</em></center>"
   ]
  },
  {
   "cell_type": "markdown",
   "metadata": {},
   "source": [
    "# Milestone Project 2 - Blackjack Game\n",
    "In this milestone project you will be creating a Complete BlackJack Card Game in Python.\n",
    "\n",
    "Here are the requirements:\n",
    "\n",
    "* You need to create a simple text-based [BlackJack](https://en.wikipedia.org/wiki/Blackjack) game\n",
    "* The game needs to have one player versus an automated dealer.\n",
    "* The player can stand or hit.\n",
    "* The player must be able to pick their betting amount.\n",
    "* You need to keep track of the player's total money.\n",
    "* You need to alert the player of wins, losses, or busts, etc...\n",
    "\n",
    "And most importantly:\n",
    "\n",
    "* **You must use OOP and classes in some portion of your game. You can not just use functions in your game. Use classes to help you define the Deck and the Player's hand. There are many right ways to do this, so explore it well!**\n",
    "\n",
    "\n",
    "Feel free to expand this game. Try including multiple players. Try adding in Double-Down and card splits! Remember to you are free to use any resources you want and as always:\n",
    "\n",
    "# HAVE FUN!"
   ]
  },
  {
   "cell_type": "markdown",
   "metadata": {},
   "source": [
    "how to play blackjack:\n",
    "\n",
    "player places a bet. \n",
    "\n",
    "dealer has the deck and deals one card to the player and one to himself, one faceup to the player then one facedown to himself.\n",
    "\n",
    "if you have 21, you win your bet. \n",
    "otherwise, you can hit or stand. \n",
    "player busts if total is greater than 21.\n",
    "\n",
    "\n",
    "\n",
    "then dealer reveals his facedown card. If hand is 17 or higher, they have to stand, else the have to hit. If the dealer busts, player wins. Else, closest to 21 wins.\n",
    "\n",
    "values of cards: 2-10 face value, J,Q,K =10, ACE is 11 OR 1 \n",
    "\n",
    "suits don't matter\n",
    "\n",
    "need: deck of cards with associated values (ACE will be a problem)\n",
    "betting pool\n",
    "dealer hand, player hand\n",
    "\n",
    "\n"
   ]
  },
  {
   "cell_type": "code",
   "execution_count": 1,
   "metadata": {},
   "outputs": [],
   "source": [
    "# We'll use this later\n",
    "import random "
   ]
  },
  {
   "cell_type": "code",
   "execution_count": 4,
   "metadata": {},
   "outputs": [],
   "source": [
    "suits = ('Hearts', 'Diamonds', 'Spades', 'Clubs')\n",
    "ranks = ('Two', 'Three', 'Four', 'Five', 'Six', 'Seven', 'Eight', 'Nine', 'Ten', 'Jack', 'Queen', 'King', 'Ace')\n",
    "values = {'Two':2, 'Three':3, 'Four':4, 'Five':5, 'Six':6, 'Seven':7, 'Eight':8, \n",
    "            'Nine':9, 'Ten':10, 'Jack':10, 'Queen':10, 'King':10, 'Ace':[11,1]}"
   ]
  },
  {
   "cell_type": "code",
   "execution_count": 86,
   "metadata": {},
   "outputs": [],
   "source": [
    "class Card:\n",
    "    \n",
    "    def __init__(self,suit,rank):\n",
    "        self.suit = suit\n",
    "        self.rank = rank\n",
    "        self.value = values[rank]\n",
    "        self.faceup=True\n",
    "        \n",
    "    def __str__(self):\n",
    "        if self.faceup==True:\n",
    "            return self.rank + ' of ' + self.suit\n",
    "        else:\n",
    "            return \"card is facedown\""
   ]
  },
  {
   "cell_type": "code",
   "execution_count": 93,
   "metadata": {},
   "outputs": [],
   "source": [
    "class Deck(Card):\n",
    "    \n",
    "    def __init__(self):\n",
    "        # Note this only happens once upon creation of a new Deck\n",
    "        self.all_cards = [] \n",
    "        for suit in suits:\n",
    "            for rank in ranks:\n",
    "                # This assumes the Card class has already been defined!\n",
    "                self.all_cards.append(Card(suit,rank))\n",
    "                \n",
    "    def shuffle(self):\n",
    "        # Note this doesn't return anything\n",
    "        random.shuffle(self.all_cards)\n",
    "        \n",
    "    def deal_one(self):\n",
    "        # Note we remove one card from the list of all_cards\n",
    "        return self.all_cards.pop()  \n",
    "    def deal_one_down(self):\n",
    "        # Note we remove one card from the list of all_cards\n",
    "        card=self.all_cards.pop()\n",
    "        card.faceup=False\n",
    "        return card"
   ]
  },
  {
   "cell_type": "code",
   "execution_count": 189,
   "metadata": {},
   "outputs": [],
   "source": [
    "class Player(Deck, Card):\n",
    "    \n",
    "    def __init__(self, money, name):\n",
    "        self.wager=[]\n",
    "        self.money=money\n",
    "        self.name=name\n",
    "        self.hand=[]\n",
    "        \n",
    "    def __str__(self):\n",
    "        for card in self.hand:\n",
    "            if card.faceup==True:\n",
    "                return self.rank + ' of ' + self.suit\n",
    "            else:\n",
    "                return \"card is facedown\"\n",
    "        \n",
    "    def remove_one(self):\n",
    "        # Note we remove one card from the list of all_cards\n",
    "        # We state 0 to remove from the \"top\" of the deck\n",
    "        # We'll imagine index -1 as the bottom of the deck\n",
    "        return self.hand.pop(0)\n",
    "    \n",
    "    def add_cards(self,new_cards):\n",
    "        if type(new_cards) == type([]):\n",
    "            self.hand.extend(new_cards)\n",
    "        else:\n",
    "            self.hand.append(new_cards)\n",
    "   \n",
    "    def bet(self):\n",
    "        self.wager=int(input(f\"How much would you like to bet? You have {self.money} available. \"))\n",
    "        print (self.money-self.wager)\n",
    "        while(self.money-self.wager)<0:\n",
    "            self.wager=int(input(f\"How much would you like to bet? You have ONLY {self.money} available. \"))\n",
    "    \n",
    "        if (self.money-self.wager)>=0:\n",
    "            print(f\"you have {self.money-self.wager} left\")\n",
    "            self.money=(self.money-self.wager)\n",
    "        "
   ]
  },
  {
   "cell_type": "markdown",
   "metadata": {},
   "source": [
    "now I've got the deck, and ACES have 2 possible values\n",
    "<br>\n",
    "1: dealer shuffles the deck<br>\n",
    "1a: player makes bet from pool<br>\n",
    "    --> player object with <br>\n",
    "2: dealer deals one card to player and one to himself, both face up<br>\n",
    "    --> add trait to cards \"face up\"?<br>\n",
    "3: then one face up to player and one face down to dealer<br>\n",
    "4: hit or stand user input with WHILE loop (while sum_value<21)<br>\n",
    "5:\n"
   ]
  },
  {
   "cell_type": "code",
   "execution_count": 229,
   "metadata": {},
   "outputs": [],
   "source": [
    "ema=Player(10, \"ema\")"
   ]
  },
  {
   "cell_type": "code",
   "execution_count": 230,
   "metadata": {},
   "outputs": [
    {
     "name": "stdout",
     "output_type": "stream",
     "text": [
      "How much would you like to bet? You have 10 available. 4\n",
      "6\n",
      "you have 6 left\n"
     ]
    }
   ],
   "source": [
    "ema.bet()"
   ]
  },
  {
   "cell_type": "code",
   "execution_count": 231,
   "metadata": {},
   "outputs": [
    {
     "name": "stdout",
     "output_type": "stream",
     "text": [
      "4\n"
     ]
    }
   ],
   "source": [
    "print(ema.wager)"
   ]
  },
  {
   "cell_type": "code",
   "execution_count": 267,
   "metadata": {},
   "outputs": [],
   "source": [
    "mydeck=Deck()\n",
    "#mydeck.shuffle()"
   ]
  },
  {
   "cell_type": "code",
   "execution_count": 268,
   "metadata": {},
   "outputs": [],
   "source": [
    "card=mydeck.deal_one()"
   ]
  },
  {
   "cell_type": "code",
   "execution_count": 269,
   "metadata": {},
   "outputs": [
    {
     "name": "stdout",
     "output_type": "stream",
     "text": [
      "Ace of Clubs\n",
      "Ace of Clubs\n"
     ]
    }
   ],
   "source": [
    "print(card)\n",
    "card.faceup=True\n",
    "print(card)"
   ]
  },
  {
   "cell_type": "markdown",
   "metadata": {},
   "source": [
    "I've got:\n",
    "<br>\n",
    "cards with correct values\n",
    "<br>\n",
    "deck\n",
    "<br>\n",
    "player with money who can't bet more than he has \n",
    "<br>\n",
    "cards dealt face up or down \n"
   ]
  },
  {
   "cell_type": "code",
   "execution_count": 273,
   "metadata": {},
   "outputs": [],
   "source": [
    "#card.faceup=False\n",
    "ema.add_cards(new_cards=card)"
   ]
  },
  {
   "cell_type": "code",
   "execution_count": 272,
   "metadata": {},
   "outputs": [
    {
     "name": "stdout",
     "output_type": "stream",
     "text": [
      "Ace of Clubs\n"
     ]
    }
   ],
   "source": [
    "print(card)"
   ]
  },
  {
   "cell_type": "code",
   "execution_count": 205,
   "metadata": {},
   "outputs": [
    {
     "data": {
      "text/plain": [
       "__main__.Deck"
      ]
     },
     "execution_count": 205,
     "metadata": {},
     "output_type": "execute_result"
    }
   ],
   "source": [
    "type(mydeck)"
   ]
  },
  {
   "cell_type": "code",
   "execution_count": 278,
   "metadata": {},
   "outputs": [
    {
     "name": "stdout",
     "output_type": "stream",
     "text": [
      "Ace of Clubs\n",
      "value is 11\n",
      "Ace of Clubs\n",
      "value is 11\n"
     ]
    }
   ],
   "source": [
    "\n",
    "for i in ema.hand:\n",
    "    print(i)\n",
    "    if i.faceup==True:\n",
    "        print(f\"value is {i.value}\")"
   ]
  },
  {
   "cell_type": "code",
   "execution_count": 276,
   "metadata": {},
   "outputs": [
    {
     "name": "stdout",
     "output_type": "stream",
     "text": [
      "choose 1 or 11 for your Ace 1\n",
      "choose 1 or 11 for your Ace 11\n"
     ]
    }
   ],
   "source": [
    "for i in ema.hand:\n",
    "    if i.rank==\"Ace\":\n",
    "        i.value=input(\"choose 1 or 11 for your Ace \")\n"
   ]
  },
  {
   "cell_type": "code",
   "execution_count": 322,
   "metadata": {},
   "outputs": [
    {
     "data": {
      "text/plain": [
       "7"
      ]
     },
     "execution_count": 322,
     "metadata": {},
     "output_type": "execute_result"
    }
   ],
   "source": [
    "player.money+player.wager"
   ]
  },
  {
   "cell_type": "code",
   "execution_count": 325,
   "metadata": {},
   "outputs": [
    {
     "name": "stdout",
     "output_type": "stream",
     "text": [
      "would you like to play BlackJack? Yes or No Yes\n",
      "How much would you like to bet? You have 10 available. 4\n",
      "6\n",
      "you have 6 left\n",
      "\n",
      "\n",
      "first cards \n",
      "\n",
      "player: Ten of Spades\n",
      "dealer: Eight of Spades\n",
      "\n",
      "\n",
      "player's second card \n",
      "\n",
      "Ten of Spades\n",
      "value is 10\n",
      "King of Spades\n",
      "value is 10\n",
      "\n",
      " dealers's second card \n",
      "\n",
      "Eight of Spades\n",
      "value is 8\n",
      "card is facedown\n",
      "\n",
      " player total is: 20\n",
      "would you like to hit? Enter Yes or No No\n",
      "player stands \n",
      "\n",
      "game over, player wins\n",
      "player wins 8\n"
     ]
    }
   ],
   "source": [
    "#initiate and shuffle deck\n",
    "\n",
    "mydeck=Deck()\n",
    "mydeck.shuffle()\n",
    "\n",
    "#initiate player and dealer\n",
    "\n",
    "player=Player(name=\"player\", money=10)\n",
    "dealer=Player(name=\"dealer\", money=100)\n",
    "\n",
    "\n",
    "gameon=input(\"would you like to play BlackJack? Yes or No \")\n",
    "keepplaying=\"Yes\"\n",
    "\n",
    "while(gameon==\"Yes\"):\n",
    "    \n",
    "    #player makes BET\n",
    "\n",
    "    player.bet()\n",
    "\n",
    "    #dealer deals 1 faceup to player then himself\n",
    "    print(\"\\n\")\n",
    "    print(\"first cards \\n\")\n",
    "\n",
    "    card=mydeck.deal_one()\n",
    "\n",
    "    player.add_cards(new_cards=card)\n",
    "    print(f\"player: {player.hand[0]}\")\n",
    "\n",
    "    card=mydeck.deal_one()\n",
    "\n",
    "    dealer.add_cards(new_cards=card)\n",
    "    print(f\"dealer: {dealer.hand[0]}\")\n",
    "\n",
    "    print(\"\\n\")\n",
    "    #dealer deals one face up to player\n",
    "\n",
    "    print(\"player's second card \\n\")\n",
    "\n",
    "    card=mydeck.deal_one()\n",
    "\n",
    "    player.add_cards(new_cards=card)\n",
    "\n",
    "    for i in player.hand:\n",
    "        print(i)\n",
    "        if i.faceup==True:\n",
    "            print(f\"value is {i.value}\")\n",
    "\n",
    "    playertotal=0\n",
    "    for i in player.hand:\n",
    "        if i.rank==\"Ace\":\n",
    "            i.value=int(input(\"choose 1 or 11 for your Ace \"))\n",
    "        playertotal+=i.value\n",
    "\n",
    "\n",
    "    print(\"\\n dealers's second card \\n\")\n",
    "\n",
    "    card=mydeck.deal_one_down()\n",
    "\n",
    "    dealer.add_cards(new_cards=card)\n",
    "\n",
    "\n",
    "    for i in dealer.hand:\n",
    "        print(i)\n",
    "        if i.faceup==True:\n",
    "            print(f\"value is {i.value}\")\n",
    "\n",
    "\n",
    "\n",
    "    #now comes hit or stand, bust or win\n",
    "    #for player, they can choose to hit until they reach 21\n",
    "    print(f\"\\n player total is: {playertotal}\")\n",
    "\n",
    "\n",
    "\n",
    "    if playertotal==21:\n",
    "        print(\"game over, player wins\")\n",
    "        player.money=player.money+(player.wager*2)\n",
    "        print(f\"player wins {(player.wager*2)}\")\n",
    "        keepplaying=\"No\"\n",
    "\n",
    "    if playertotal>21:\n",
    "        print(\"BUST! game over, player loses\")\n",
    "        keepplaying=\"No\"\n",
    "\n",
    "    while playertotal<21:\n",
    "\n",
    "        hit=input(\"would you like to hit? Enter Yes or No \")\n",
    "\n",
    "        if hit==\"Yes\":\n",
    "            print(\"whee!\")\n",
    "            card=mydeck.deal_one()\n",
    "            if card.rank==\"Ace\":\n",
    "                card.value=int(input(\"choose 1 or 11 for your Ace \"))\n",
    "\n",
    "            player.add_cards(new_cards=card)\n",
    "            for i in player.hand:\n",
    "                print(i)\n",
    "                if i.faceup==True:\n",
    "                    print(f\"value is {i.value}\")\n",
    "\n",
    "            playertotal+=card.value\n",
    "            print(f\"\\n player total is: {playertotal}\")\n",
    "\n",
    "                \n",
    "        else:\n",
    "            print(\"player stands \\n\")\n",
    "            break\n",
    "\n",
    "\n",
    "\n",
    "    if playertotal==21:\n",
    "        print(\"game over, player wins\")\n",
    "        player.money=player.money+(player.wager*2)\n",
    "        print(f\"player wins {(player.wager*2)}\")\n",
    "        keepplaying=\"No\"\n",
    "\n",
    "    if playertotal>21:\n",
    "        print(\"BUST! game over, player loses\")\n",
    "        keepplaying=\"No\"\n",
    "        \n",
    "    gameon=keepplaying\n",
    "\n",
    "    #if the dealer has 16 or less, he must HIT\n",
    "    dealertotal=0       \n",
    "    for i in dealer.hand:\n",
    "        if i.rank==\"Ace\":\n",
    "            i.value=int(input(\"choose 1 or 11 for your Ace \"))\n",
    "        dealertotal+=i.value\n",
    "        \n",
    "    if dealertotal<17:\n",
    "        print(\"\\n dealer hits \\n\")\n",
    "\n",
    "        card=mydeck.deal_one_down()\n",
    "\n",
    "        dealer.add_cards(new_cards=card)\n",
    "\n",
    "\n",
    "        for i in dealer.hand:\n",
    "            i.faceup=True\n",
    "            print(i)\n",
    "            if i.faceup==True:\n",
    "                print(f\"value is {i.value}\")\n",
    "                \n",
    "        dealertotal+=card.value\n",
    "        \n",
    "        print(dealertotal)\n",
    "    if playertotal==21:\n",
    "        print(\"game over, dealer wins\")\n",
    "        keepplaying=\"No\"\n",
    "\n",
    "    if playertotal>21:\n",
    "        print(\"dealer BUST! game over, player wins\")\n",
    "        player.money=player.money+(player.wager*2)\n",
    "        print(f\"player wins {(player.wager*2)}\")\n",
    "        keepplaying=\"No\"\n",
    "    \n",
    "    gameon=keepplaying\n",
    " \n",
    "    #neither player or dealer busted, then count value of cards and determine winner\n",
    "    playerclose=21-playertotal\n",
    "    dealerclose=21-dealertotal\n",
    "    \n",
    "    if playerclose<=dealerclose:\n",
    "        print(\"game over, player wins\")\n",
    "        player.money=player.money+(player.wager*2)\n",
    "        print(f\"player wins {(player.wager*2)}\")\n",
    "        keepplaying=\"No\"\n",
    "    else:\n",
    "        print(\"game over, dealer wins\")\n",
    "        print(f\"player loses {(player.wager)}\")\n",
    "        keepplaying=\"No\"\n",
    "        \n",
    "    gameon=keepplaying"
   ]
  },
  {
   "cell_type": "code",
   "execution_count": 317,
   "metadata": {},
   "outputs": [
    {
     "data": {
      "text/plain": [
       "False"
      ]
     },
     "execution_count": 317,
     "metadata": {},
     "output_type": "execute_result"
    }
   ],
   "source": []
  },
  {
   "cell_type": "code",
   "execution_count": null,
   "metadata": {},
   "outputs": [],
   "source": []
  },
  {
   "cell_type": "code",
   "execution_count": null,
   "metadata": {},
   "outputs": [],
   "source": []
  }
 ],
 "metadata": {
  "kernelspec": {
   "display_name": "Python 3 (ipykernel)",
   "language": "python",
   "name": "python3"
  },
  "language_info": {
   "codemirror_mode": {
    "name": "ipython",
    "version": 3
   },
   "file_extension": ".py",
   "mimetype": "text/x-python",
   "name": "python",
   "nbconvert_exporter": "python",
   "pygments_lexer": "ipython3",
   "version": "3.10.9"
  }
 },
 "nbformat": 4,
 "nbformat_minor": 1
}
